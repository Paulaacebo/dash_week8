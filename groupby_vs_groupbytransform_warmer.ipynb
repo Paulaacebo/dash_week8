{
 "cells": [
  {
   "cell_type": "markdown",
   "id": "16747e73",
   "metadata": {},
   "source": [
    "## Pandas `groupby()` vs `groupby().transform()`"
   ]
  },
  {
   "cell_type": "markdown",
   "id": "0f9ab919",
   "metadata": {},
   "source": [
    "### warm-up\n",
    "\n",
    "- `groupby` is used to analyze different groups or categories on your data\n",
    "- When an aggregate statistic is performed on it the result is this statistic per group or category \n",
    "- In the following notebook look at other ways to structure the result of groupby during analysis\n",
    "- Run the code and answer the questions to be discussed as a class"
   ]
  },
  {
   "cell_type": "code",
   "execution_count": 31,
   "id": "6c9dc1c2",
   "metadata": {},
   "outputs": [],
   "source": [
    "import pandas as pd\n",
    "import seaborn as sns"
   ]
  },
  {
   "cell_type": "code",
   "execution_count": 32,
   "id": "0d00c70e",
   "metadata": {},
   "outputs": [],
   "source": [
    "penguins = sns.load_dataset('penguins')"
   ]
  },
  {
   "cell_type": "code",
   "execution_count": 33,
   "id": "5244808b",
   "metadata": {},
   "outputs": [
    {
     "data": {
      "text/html": [
       "<div>\n",
       "<style scoped>\n",
       "    .dataframe tbody tr th:only-of-type {\n",
       "        vertical-align: middle;\n",
       "    }\n",
       "\n",
       "    .dataframe tbody tr th {\n",
       "        vertical-align: top;\n",
       "    }\n",
       "\n",
       "    .dataframe thead th {\n",
       "        text-align: right;\n",
       "    }\n",
       "</style>\n",
       "<table border=\"1\" class=\"dataframe\">\n",
       "  <thead>\n",
       "    <tr style=\"text-align: right;\">\n",
       "      <th></th>\n",
       "      <th>species</th>\n",
       "      <th>island</th>\n",
       "      <th>bill_length_mm</th>\n",
       "      <th>bill_depth_mm</th>\n",
       "      <th>flipper_length_mm</th>\n",
       "      <th>body_mass_g</th>\n",
       "      <th>sex</th>\n",
       "    </tr>\n",
       "  </thead>\n",
       "  <tbody>\n",
       "    <tr>\n",
       "      <th>0</th>\n",
       "      <td>Adelie</td>\n",
       "      <td>Torgersen</td>\n",
       "      <td>39.1</td>\n",
       "      <td>18.7</td>\n",
       "      <td>181.0</td>\n",
       "      <td>3750.0</td>\n",
       "      <td>Male</td>\n",
       "    </tr>\n",
       "    <tr>\n",
       "      <th>1</th>\n",
       "      <td>Adelie</td>\n",
       "      <td>Torgersen</td>\n",
       "      <td>39.5</td>\n",
       "      <td>17.4</td>\n",
       "      <td>186.0</td>\n",
       "      <td>3800.0</td>\n",
       "      <td>Female</td>\n",
       "    </tr>\n",
       "    <tr>\n",
       "      <th>2</th>\n",
       "      <td>Adelie</td>\n",
       "      <td>Torgersen</td>\n",
       "      <td>40.3</td>\n",
       "      <td>18.0</td>\n",
       "      <td>195.0</td>\n",
       "      <td>3250.0</td>\n",
       "      <td>Female</td>\n",
       "    </tr>\n",
       "    <tr>\n",
       "      <th>3</th>\n",
       "      <td>Adelie</td>\n",
       "      <td>Torgersen</td>\n",
       "      <td>NaN</td>\n",
       "      <td>NaN</td>\n",
       "      <td>NaN</td>\n",
       "      <td>NaN</td>\n",
       "      <td>NaN</td>\n",
       "    </tr>\n",
       "    <tr>\n",
       "      <th>4</th>\n",
       "      <td>Adelie</td>\n",
       "      <td>Torgersen</td>\n",
       "      <td>36.7</td>\n",
       "      <td>19.3</td>\n",
       "      <td>193.0</td>\n",
       "      <td>3450.0</td>\n",
       "      <td>Female</td>\n",
       "    </tr>\n",
       "  </tbody>\n",
       "</table>\n",
       "</div>"
      ],
      "text/plain": [
       "  species     island  bill_length_mm  bill_depth_mm  flipper_length_mm  \\\n",
       "0  Adelie  Torgersen            39.1           18.7              181.0   \n",
       "1  Adelie  Torgersen            39.5           17.4              186.0   \n",
       "2  Adelie  Torgersen            40.3           18.0              195.0   \n",
       "3  Adelie  Torgersen             NaN            NaN                NaN   \n",
       "4  Adelie  Torgersen            36.7           19.3              193.0   \n",
       "\n",
       "   body_mass_g     sex  \n",
       "0       3750.0    Male  \n",
       "1       3800.0  Female  \n",
       "2       3250.0  Female  \n",
       "3          NaN     NaN  \n",
       "4       3450.0  Female  "
      ]
     },
     "execution_count": 33,
     "metadata": {},
     "output_type": "execute_result"
    }
   ],
   "source": [
    "penguins.head()"
   ]
  },
  {
   "cell_type": "markdown",
   "id": "644d540c",
   "metadata": {},
   "source": [
    "### 1. Calculate the mean of the `bill_length_mm` in the dataset:"
   ]
  },
  {
   "cell_type": "code",
   "execution_count": 34,
   "id": "dd789f5a",
   "metadata": {},
   "outputs": [
    {
     "data": {
      "text/plain": [
       "43.9219298245614"
      ]
     },
     "execution_count": 34,
     "metadata": {},
     "output_type": "execute_result"
    }
   ],
   "source": [
    "penguins['bill_length_mm'].mean()"
   ]
  },
  {
   "cell_type": "markdown",
   "id": "0abbcc1a",
   "metadata": {},
   "source": [
    "### 2. Calculate the mean of the `bill_length_mm` per species"
   ]
  },
  {
   "cell_type": "code",
   "execution_count": 35,
   "id": "66c9a404",
   "metadata": {},
   "outputs": [
    {
     "data": {
      "text/plain": [
       "species\n",
       "Adelie       38.791391\n",
       "Chinstrap    48.833824\n",
       "Gentoo       47.504878\n",
       "Name: bill_length_mm, dtype: float64"
      ]
     },
     "execution_count": 35,
     "metadata": {},
     "output_type": "execute_result"
    }
   ],
   "source": [
    "penguins.groupby('species')['bill_length_mm'].mean()"
   ]
  },
  {
   "cell_type": "markdown",
   "id": "dd9e5f8e",
   "metadata": {},
   "source": [
    "### 3. What is the difference between the result in 2. and the code snippet below?"
   ]
  },
  {
   "cell_type": "code",
   "execution_count": 36,
   "id": "08d7f1b9",
   "metadata": {},
   "outputs": [
    {
     "data": {
      "text/plain": [
       "0      38.791391\n",
       "1      38.791391\n",
       "2      38.791391\n",
       "3      38.791391\n",
       "4      38.791391\n",
       "         ...    \n",
       "339    47.504878\n",
       "340    47.504878\n",
       "341    47.504878\n",
       "342    47.504878\n",
       "343    47.504878\n",
       "Name: bill_length_mm, Length: 344, dtype: float64"
      ]
     },
     "execution_count": 36,
     "metadata": {},
     "output_type": "execute_result"
    }
   ],
   "source": [
    "penguins.groupby('species')['bill_length_mm'].transform('mean')"
   ]
  },
  {
   "cell_type": "markdown",
   "id": "14c29938",
   "metadata": {},
   "source": [
    "### 4. How could we add this to the dataframe?\n",
    "### 5. What exactly does `.transform()` do?\n",
    "### 6. Can `.transform()` be used without `groupby()`?"
   ]
  },
  {
   "cell_type": "code",
   "execution_count": 37,
   "id": "e0d4f6d1",
   "metadata": {},
   "outputs": [],
   "source": [
    "def convert_mm_to_m(x):\n",
    "    return x/1000"
   ]
  },
  {
   "cell_type": "code",
   "execution_count": 38,
   "id": "726a54b0",
   "metadata": {},
   "outputs": [
    {
     "data": {
      "text/plain": [
       "0      0.0187\n",
       "1      0.0174\n",
       "2      0.0180\n",
       "3         NaN\n",
       "4      0.0193\n",
       "        ...  \n",
       "339       NaN\n",
       "340    0.0143\n",
       "341    0.0157\n",
       "342    0.0148\n",
       "343    0.0161\n",
       "Name: bill_depth_mm, Length: 344, dtype: float64"
      ]
     },
     "execution_count": 38,
     "metadata": {},
     "output_type": "execute_result"
    }
   ],
   "source": [
    "penguins['bill_depth_mm'].transform(convert_mm_to_m)"
   ]
  },
  {
   "cell_type": "code",
   "execution_count": 12,
   "id": "85728cff",
   "metadata": {},
   "outputs": [
    {
     "data": {
      "text/plain": [
       "0      0.0391\n",
       "1      0.0395\n",
       "2      0.0403\n",
       "3         NaN\n",
       "4      0.0367\n",
       "        ...  \n",
       "339       NaN\n",
       "340    0.0468\n",
       "341    0.0504\n",
       "342    0.0452\n",
       "343    0.0499\n",
       "Name: bill_length_mm, Length: 344, dtype: float64"
      ]
     },
     "execution_count": 12,
     "metadata": {},
     "output_type": "execute_result"
    }
   ],
   "source": [
    "penguins['bill_length_mm'].transform(lambda x: x/1000)"
   ]
  },
  {
   "cell_type": "code",
   "execution_count": null,
   "id": "86b92b94",
   "metadata": {},
   "outputs": [],
   "source": []
  }
 ],
 "metadata": {
  "kernelspec": {
   "display_name": "Python 3 (ipykernel)",
   "language": "python",
   "name": "python3"
  },
  "language_info": {
   "codemirror_mode": {
    "name": "ipython",
    "version": 3
   },
   "file_extension": ".py",
   "mimetype": "text/x-python",
   "name": "python",
   "nbconvert_exporter": "python",
   "pygments_lexer": "ipython3",
   "version": "3.11.4"
  }
 },
 "nbformat": 4,
 "nbformat_minor": 5
}
